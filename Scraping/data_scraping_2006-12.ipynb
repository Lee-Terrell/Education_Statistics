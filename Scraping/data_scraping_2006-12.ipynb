{
 "cells": [
  {
   "cell_type": "code",
   "execution_count": 1,
   "metadata": {},
   "outputs": [],
   "source": [
    "import pandas as pd\n",
    "import re\n",
    "import requests\n",
    "from bs4 import BeautifulSoup as soup"
   ]
  },
  {
   "cell_type": "code",
   "execution_count": 78,
   "metadata": {},
   "outputs": [
    {
     "name": "stdout",
     "output_type": "stream",
     "text": [
      "2006\n",
      "7\n",
      "2007\n",
      "7\n",
      "2008\n",
      "7\n",
      "2009\n",
      "7\n",
      "2010\n",
      "7\n",
      "2011\n",
      "7\n",
      "2012\n",
      "7\n"
     ]
    }
   ],
   "source": [
    "for year in range(2006,2013):\n",
    "    print(year)\n",
    "    try:\n",
    "        url = f'https://nces.ed.gov/programs/digest/d{str(year)[2:]}/tables/dt{str(year)[2:]}_076.asp'\n",
    "        r=requests.post(url)\n",
    "        table_list = pd.read_html(r.text)\n",
    "\n",
    "        print(len(table_list))   \n",
    "    except:\n",
    "        print(f'No data in this link: {url}')"
   ]
  },
  {
   "cell_type": "code",
   "execution_count": null,
   "metadata": {},
   "outputs": [],
   "source": [
    "# Table 079 for 2008-09\n",
    "# Table 083 for 2010\n",
    "# Table 084 for 2011\n",
    "# Table 091 for 2012"
   ]
  },
  {
   "cell_type": "code",
   "execution_count": 8,
   "metadata": {},
   "outputs": [],
   "source": [
    "year = 2012\n",
    "\n",
    "# Insert year to complete URL\n",
    "url = f'https://nces.ed.gov/programs/digest/d{str(year)[2:]}/tables/dt{str(year)[2:]}_091.asp'\n",
    "\n",
    "# Use requests.post to let webpage load before scraping\n",
    "r=requests.post(url)\n",
    "\n",
    "# Use pandas to read html and find tables\n",
    "table_list = pd.read_html(r.text, match=\"Current dollars\",header=[0,1,2])\n",
    "\n",
    "# the slary DF is the fourth table in the list of DFs\n",
    "salary_df = table_list[0]\n",
    "\n",
    "# Drop the the column headers that didn't include the years and focus on columns that were not inflation adjusted\n",
    "clean_salary_df = salary_df.droplevel(level=[0,2],axis=1).iloc[:,:8]\n",
    "\n",
    "# Set the State to index\n",
    "new_index_df = clean_salary_df.set_index('State')\n",
    "\n",
    "# Create a copy of DF and drop NANs\n",
    "final_salary_df = new_index_df.copy().dropna()\n",
    "\n",
    "# Apply lambda-function to remove $-sign and commas from first row of data\n",
    "final_salary_df.iloc[0,:] = final_salary_df.iloc[0,:].apply(lambda x: int(''.join(re.findall(r'\\d',x))))\n",
    "\n",
    "# Export as CSV to Data-folder\n",
    "final_salary_df.to_csv(f'Data/{str(year)}_avg_teacher_salaries.csv')"
   ]
  },
  {
   "cell_type": "code",
   "execution_count": null,
   "metadata": {},
   "outputs": [],
   "source": []
  }
 ],
 "metadata": {
  "kernelspec": {
   "display_name": "obb",
   "language": "python",
   "name": "python3"
  },
  "language_info": {
   "codemirror_mode": {
    "name": "ipython",
    "version": 3
   },
   "file_extension": ".py",
   "mimetype": "text/x-python",
   "name": "python",
   "nbconvert_exporter": "python",
   "pygments_lexer": "ipython3",
   "version": "3.9.6"
  },
  "orig_nbformat": 4
 },
 "nbformat": 4,
 "nbformat_minor": 2
}
